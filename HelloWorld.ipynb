{
  "nbformat": 4,
  "nbformat_minor": 0,
  "metadata": {
    "colab": {
      "name": "HelloWorld.ipynb",
      "provenance": [],
      "collapsed_sections": [],
      "authorship_tag": "ABX9TyPCxGy6KWt6WyYesD6WShYk",
      "include_colab_link": true
    },
    "kernelspec": {
      "name": "python3",
      "display_name": "Python 3"
    }
  },
  "cells": [
    {
      "cell_type": "markdown",
      "metadata": {
        "id": "view-in-github",
        "colab_type": "text"
      },
      "source": [
        "<a href=\"https://colab.research.google.com/github/borobong2/ML/blob/main/HelloWorld.ipynb\" target=\"_parent\"><img src=\"https://colab.research.google.com/assets/colab-badge.svg\" alt=\"Open In Colab\"/></a>"
      ]
    },
    {
      "cell_type": "code",
      "metadata": {
        "colab": {
          "base_uri": "https://localhost:8080/"
        },
        "id": "XIGencUFC_JM",
        "outputId": "47521069-6766-4617-e051-bb270dae6990"
      },
      "source": [
        "print(\"hello world, colab\")"
      ],
      "execution_count": null,
      "outputs": [
        {
          "output_type": "stream",
          "text": [
            "hello world, colab\n"
          ],
          "name": "stdout"
        }
      ]
    },
    {
      "cell_type": "code",
      "metadata": {
        "colab": {
          "base_uri": "https://localhost:8080/"
        },
        "id": "ee-TasDYg16c",
        "outputId": "2046751f-a53e-4f29-9d56-0bcfef867893"
      },
      "source": [
        "#TensorFlow V1 방식\r\n",
        "#Create a constant op\r\n",
        "#This op is added as a node to the default graph\r\n",
        "\r\n",
        "import tensorflow.compat.v1 as tf\r\n",
        "\r\n",
        "\r\n",
        "hello = tf.constant(\"Hello, TensorFlow!\")\r\n",
        "\r\n",
        "# seart a TF session\r\n",
        "sess = tf.Session()\r\n",
        "\r\n",
        "#run the op and get result\r\n",
        "print(sess.run(hello))"
      ],
      "execution_count": null,
      "outputs": [
        {
          "output_type": "stream",
          "text": [
            "b'Hello, TensorFlow!'\n"
          ],
          "name": "stdout"
        }
      ]
    },
    {
      "cell_type": "code",
      "metadata": {
        "colab": {
          "base_uri": "https://localhost:8080/"
        },
        "id": "qlHEUo1GgN1l",
        "outputId": "a23faf8b-d0f5-4119-bcfa-3c433f5a9fe4"
      },
      "source": [
        "#TensorFlow V2 방식\r\n",
        "\r\n",
        "import tensorflow as tf\r\n",
        "\r\n",
        "#Create a constant op\r\n",
        "#This op is added as a node to the default graph\r\n",
        "\r\n",
        "hello = tf.constant(\"Hello, TensorFlow!\")\r\n",
        "\r\n",
        "#run the op and get result\r\n",
        "print(hello)\r\n"
      ],
      "execution_count": null,
      "outputs": [
        {
          "output_type": "stream",
          "text": [
            "Tensor(\"Const_7:0\", shape=(), dtype=string)\n"
          ],
          "name": "stdout"
        }
      ]
    },
    {
      "cell_type": "code",
      "metadata": {
        "colab": {
          "base_uri": "https://localhost:8080/"
        },
        "id": "uN5krwoZjSsr",
        "outputId": "b446ac9f-87f5-4c79-c13b-1ce9759e1f9f"
      },
      "source": [
        "import tensorflow.compat.v1 as tf\r\n",
        "\r\n",
        "node1 = tf.constant(3.0, tf.float32)\r\n",
        "node2 = tf.constant(4.0) # also tf.float32 implicitly\r\n",
        "node3 = tf.add(node1, node2)\r\n",
        "\r\n",
        "sess = tf.Session()\r\n",
        "print(\"sess.run(node1, node2): \", sess.run([node1, node2]))\r\n",
        "print(\"sess.run(node3): \", sess.run(node3))"
      ],
      "execution_count": null,
      "outputs": [
        {
          "output_type": "stream",
          "text": [
            "sess.run(node1, node2):  [3.0, 4.0]\n",
            "sess.run(node3):  7.0\n"
          ],
          "name": "stdout"
        }
      ]
    },
    {
      "cell_type": "code",
      "metadata": {
        "colab": {
          "base_uri": "https://localhost:8080/"
        },
        "id": "v9iz7BnakFaX",
        "outputId": "9e3b26cc-6958-44cf-e58f-c341af998762"
      },
      "source": [
        "import tensorflow.compat.v1 as tf\r\n",
        "\r\n",
        "a = tf.placeholder(tf.float32)\r\n",
        "b = tf.placeholder(tf.float32)\r\n",
        "adder_node = a + b # + provides a shortcut for tf.add(a, b)\r\n",
        "\r\n",
        "print(sess.run(adder_node, feed_dict={a: 3, b: 4.5}))\r\n",
        "print(sess.run(adder_node, feed_dict={a: [1,3], b: [2,4]}))"
      ],
      "execution_count": 25,
      "outputs": [
        {
          "output_type": "stream",
          "text": [
            "7.5\n",
            "[3. 7.]\n"
          ],
          "name": "stdout"
        }
      ]
    },
    {
      "cell_type": "code",
      "metadata": {
        "colab": {
          "base_uri": "https://localhost:8080/"
        },
        "id": "pUcPJB7jqh3O",
        "outputId": "8b612250-4a4d-423c-e9b1-c612e26d6697"
      },
      "source": [
        "!git clone git@github.com:borobong2/ML.git"
      ],
      "execution_count": 27,
      "outputs": [
        {
          "output_type": "stream",
          "text": [
            "Cloning into 'ML'...\n",
            "Host key verification failed.\n",
            "fatal: Could not read from remote repository.\n",
            "\n",
            "Please make sure you have the correct access rights\n",
            "and the repository exists.\n"
          ],
          "name": "stdout"
        }
      ]
    }
  ]
}